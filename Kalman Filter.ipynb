{
 "cells": [
  {
   "cell_type": "markdown",
   "metadata": {},
   "source": [
    "This is based on http://lenkiefer.com/2018/06/10/kalman-filter-for-a-dynamic-linear-model-in-r/"
   ]
  },
  {
   "cell_type": "markdown",
   "metadata": {},
   "source": [
    "Suppose we have a state process of interest $z_t$ that follows an ARIMA(1,1,0) process with drift.\n",
    "\n",
    "Additionally, we have two signals; one for $z_t$ and one for $z_{t-1}$ that are simulateneously observed (noisy observations of $z$). Further suppose that the signal $y_{2,t}$ for $z_{t-1}$ is more precise and the concurrent signal $y_{1,t}$ is noisier and subject to bias $\\mu_{y,1}$. We want to add weights for the two signals to make the most accurate estimation of the variable of interest $z_t$.\n",
    "\n",
    "The state-space representation of our problem is given by \n",
    "\n",
    "$$Z_t = GZ_{t-1} + v_t, \\quad v_t \\sim N(0,W_t)$$\n",
    "$$Y_t = FZ_t + w_t, \\quad w_t \\sim N(0,V_t)$$\n",
    "\n",
    "where $Z_t = [z_t, z_{t-1}, 1]^{\\prime}$ and\n",
    "$$\n",
    "G = \\left(\\begin{array}{cc} \n",
    "1 + \\rho & - \\rho & \\mu_z \\\\\n",
    "1 & 0 & 0 \\\\\n",
    "0 & 0 & 1\n",
    "\\end{array}\\right)\n",
    "$$ \n",
    "\n",
    "and \n",
    "$$ W_t = \\left(\\begin{array}{cc} \n",
    "\\sigma_z^2 & 0 & 0 \\\\\n",
    "0 & 0 & 0 \\\\\n",
    "0 & 0 & 0\n",
    "\\end{array}\\right)\n",
    "$$ \n",
    "\n",
    "and\n",
    "$$ F = \\left(\\begin{array}{cc} \n",
    "1 & 0 & \\mu_{y1} \\\\\n",
    "0 & 1 & 0 \\\\\n",
    "0 & 0 & 1\n",
    "\\end{array}\\right)\n",
    "$$ \n",
    "\n",
    "and \n",
    "$$ V_t = \\left(\\begin{array}{cc} \n",
    "\\sigma_{u1}^2 & 0 & 0 \\\\\n",
    "0 & \\sigma_{u2}^2 & 0 \\\\\n",
    "0 & 0 & 0\n",
    "\\end{array}\\right)\n",
    "$$ \n",
    "\n",
    "We begin by generating a sample path for our process"
   ]
  },
  {
   "cell_type": "code",
   "execution_count": 10,
   "metadata": {
    "vscode": {
     "languageId": "r"
    }
   },
   "outputs": [
    {
     "data": {
      "image/png": "[encoded data removed]",
      "text/plain": [
       "plot without title"
      ]
     },
     "metadata": {
      "image/png": {
       "height": 420,
       "width": 420
      }
     },
     "output_type": "display_data"
    }
   ],
   "source": [
    "# Load Libraries\n",
    "# install.packages('dlm')\n",
    "library(dlm)\n",
    "library(tidyverse) # for plotting\n",
    "\n",
    "# set parameters\n",
    "mu_z <- 0.1\n",
    "mu_y <- 0.5 # spread between observation and data\n",
    "rho1 <- 0.9 \n",
    "sig_z <- 1\n",
    "sig_u1 <- 10\n",
    "sig_u2 <- 0.1\n",
    "\n",
    "# The dlm object specifies a linaer model that fits the specified dynamics\n",
    "GG <- matrix(c(1+rho1,-rho1,mu_z,1,0,0,0,0,1),nrow=3,byrow=TRUE)\n",
    "FF <- matrix(c(1,0,mu_y,0,1,0,0,0,1),nrow=3,byrow=TRUE)\n",
    "m0 <- matrix(c(0,0,0), nrow=3)\n",
    "C0 <- matrix(rep(0,9),nrow=3)\n",
    "W <- matrix(c(sig_z,0,0,\n",
    "              0,0,0,\n",
    "              0,0,0),nrow=3,byrow=TRUE)\n",
    "V <- matrix(c(sig_u1,0,0,\n",
    "              0,sig_u2,0,\n",
    "              0,0,0),nrow=3,byrow=TRUE)\n",
    "my_dlm <- dlm(FF=FF,V=V,GG=GG,W=W,V=V,m0=c(0,0,1),C0=C0)\n",
    "\n",
    "# After setting it up we can simulate from the process using dlm::dlmForecast.\n",
    "# https://rdrr.io/cran/dlm/man/dlmForecast.html\n",
    "set.seed(20180610)  #set seed for reproducible results\n",
    "y1 <- dlmForecast(my_dlm, nAhead=120,sampleNew=1)\n",
    "\n",
    "# Arrange the dataframe for plotting\n",
    "df <- data.frame(y=y1$newObs, z=y1$newStates)\n",
    "df$id <- seq.int(nrow(df))\n",
    "\n",
    "# Plot\n",
    "ggplot(data=df, aes(x=id,y=y.1))+\n",
    "  geom_line()+\n",
    "  geom_line(linetype=2,aes(y=z.1),color=\"red\")+\n",
    "  labs(x=\"time\",y=\"Z\", title=\"Simulated dynamic linear model\", subtitle=\"black solid line observation y1\\nred dotted line fundamental z\")\n"
   ]
  },
  {
   "cell_type": "markdown",
   "metadata": {},
   "source": [
    "Next, we estimate a dynamic linear model using Maximum Likelihood."
   ]
  },
  {
   "cell_type": "code",
   "execution_count": 11,
   "metadata": {
    "vscode": {
     "languageId": "r"
    }
   },
   "outputs": [
    {
     "data": {
      "text/plain": [
       "\n",
       "\n",
       "Table: Checking MLE against simulated data\n",
       "\n",
       "|       | real|    mle|\n",
       "|:------|----:|------:|\n",
       "|rho1   |  0.9|  0.919|\n",
       "|sig_z  |  1.0|  1.156|\n",
       "|sig_u1 | 10.0| 13.994|\n",
       "|sig_u2 |  0.1|  0.196|\n",
       "|mu_z   |  0.1|  0.085|\n",
       "|mu_y   |  0.5|  0.461|"
      ]
     },
     "metadata": {},
     "output_type": "display_data"
    }
   ],
   "source": [
    "y_dlmfc <- function(par=c(rho1,sig_z,sig_u1,sig_u2,mu_z,mu_y)){\n",
    "  rho1 = par[1]\n",
    "  sig_z = par[2]  \n",
    "  sig_u1 = par[3] \n",
    "  sig_u2 = par[4]\n",
    "  mu_z = par[5]\n",
    "  mu_y = par[6]\n",
    "  GG <- matrix(c(1+rho1,-rho1,mu_z,1,0,0,0,0,1),nrow=3,byrow=TRUE)\n",
    "  FF <- matrix(c(1,0,mu_y,0,1,0,0,0,1),nrow=3,byrow=TRUE)\n",
    "  m0 <- matrix(c(0,0,0), nrow=3)\n",
    "  C0 <- matrix(rep(0,9),nrow=3)\n",
    "  W <- matrix(c(sig_z,0,0,\n",
    "                0,0,0,\n",
    "                0,0,0),nrow=3,byrow=TRUE)\n",
    "  V <- matrix(c(sig_u1,0,0,\n",
    "                0,sig_u2,0,\n",
    "                0,0,0),nrow=3,byrow=TRUE)\n",
    "  my_dlm3 <- dlm(FF=FF,V=V,GG=GG,W=W,V=V,m0=c(0,0,1),C0=C0)\n",
    "  return(my_dlm3)\n",
    "}\n",
    "\n",
    "my_mle <- dlmMLE(matrix(unlist(y1$newObs),ncol=2), \n",
    "                 rep(0.5,6),  #set initial values\n",
    "                 my_dlmfc, lower=c(-1,0,0,0,-Inf,-Inf) # as dlmMLE uses optim L-BFGS-B method by default we can set lower/upper bounds to parameters to keep us out of trouble\n",
    "                 )\n",
    "                 \n",
    "my_comp <- data.frame(row.names=c(\"rho1\",\"sig_z\",\"sig_u1\",\"sig_u2\",\"mu_z\",\"mu_y\"),real=c(rho1,sig_z,sig_u1,sig_u2,mu_z,mu_y), mle=my_mle$par) \n",
    "knitr::kable(my_comp,digits=3, caption = \"Checking MLE against simulated data\")"
   ]
  },
  {
   "cell_type": "markdown",
   "metadata": {},
   "source": [
    "The MLE estimates aren't too far off from the true process. Let's try to make it better by studying how the parameters might affect the value of the signals. If the estimates are noisy, then we put less weight on the parameter. In the context of the Kalman Filter the Kalman Gain serves as a useful summary statistic."
   ]
  },
  {
   "cell_type": "code",
   "execution_count": 12,
   "metadata": {
    "vscode": {
     "languageId": "r"
    }
   },
   "outputs": [
    {
     "data": {
      "text/plain": [
       "\n",
       "\n",
       "Table: Kalman Gain After 20 Periods\n",
       "\n",
       "| Gain for y_1| Gain for y_2|\n",
       "|------------:|------------:|\n",
       "|        0.308|        0.891|"
      ]
     },
     "metadata": {},
     "output_type": "display_data"
    }
   ],
   "source": [
    "my_kgain <- function(i=1, # signal input ( 1 or 2 in our example)\n",
    "                     j=1, # gain location (should be 1 or 2 in our exmample)\n",
    "                     j2=1, # should be same as j\n",
    "                     myk.in=myk,   # input results, the output of a dlmFilter call (see below)\n",
    "                     my_dlm.in = my_dlm2 # input dlm object, result of dlm call (see below)\n",
    "                     ){\n",
    "  vmt <- myk.in$U.C[[i]] %*% diag(myk.in$D.C[i,] ^ 2) %*% t(myk.in$U.C[[i]])\n",
    "  vat <- myk.in$U.R[[i]] %*% diag(myk.in$D.R[i,] ^ 2) %*% t(myk.in$U.R[[i]])\n",
    "  K_gain <-vat* t(FF(my_dlm.in)) * solve(FF(my_dlm.in)* vat * t(FF(my_dlm.in)) + V(my_dlm.in))\n",
    "  return(K_gain[[j,j2]])\n",
    "}\n",
    "\n",
    "# estimated gain:\n",
    "myf <- function(par=c(rho1,sig_z,sig_u1,sig_u2,mu_z,mu_y)){\n",
    "  rho1 = par[1]\n",
    "  sig_z = par[2]  \n",
    "  sig_u1 = par[3] \n",
    "  sig_u2 = par[4]\n",
    "  mu_z = par[5]\n",
    "  mu_y = par[6]\n",
    "  GG <- matrix(c(1+rho1,-rho1,1,0),nrow=2,byrow=TRUE)\n",
    "  FF <- matrix(c(1,0,0,1),nrow=2,byrow=TRUE)\n",
    "  m0 <- matrix(c(0,0), nrow=2)\n",
    "  C0 <- matrix(rep(0,4),nrow=2)\n",
    "  W <- matrix(c(sig_z,0,0,0),nrow=2,byrow=TRUE)\n",
    "  V <- matrix(c(sig_u1,0,0,sig_u2),nrow=2,byrow=TRUE)\n",
    "\n",
    "  my_dlm3 <- dlm(FF=FF,V=V,GG=GG,W=W,V=V,m0=c(0,0),C0=C0)\n",
    "  y1 <- dlmForecast(my_dlm3, nAhead=20,sampleNew=1)\n",
    "  df <- data.frame(y=y1$newObs, z=y1$newStates)\n",
    "  df$id <- seq.int(nrow(df))\n",
    "  \n",
    "  myk <- dlmFilter(as.matrix(df[,1:2]), my_dlm3)\n",
    "  # i,j refer to the position on matrix\n",
    "  dfk <- data.frame(id=1:nrow(myk$a)) %>% mutate(k11=map(id,my_kgain,1,1,myk,my_dlm3),\n",
    "                                                 k12=map(id,my_kgain,1,2,myk,my_dlm3),\n",
    "                                                 k21=map(id,my_kgain,2,1,myk,my_dlm3),\n",
    "                                                 k22=map(id,my_kgain,2,2,myk,my_dlm3) )\n",
    "  return(tail(dfk,1) %>% select(k11,k22))\n",
    "}\n",
    "\n",
    "knitr::kable(myf(my_comp$mle)  %>%  unlist %>% t %>% data.frame,\n",
    "             digits=3, \n",
    "             row.names=F,\n",
    "             col.names=c(\"Gain for y_1\",\"Gain for y_2\"),\n",
    "             caption=\"Kalman Gain After 20 Periods\")"
   ]
  },
  {
   "cell_type": "markdown",
   "metadata": {},
   "source": [
    "Fix the innovation variance for the unobserved series such that $\\sigma_z^2 = 1$ and set the intercepts $m u_z$ and $ m u_y$ to zero. This allows us to drop a state variable."
   ]
  },
  {
   "cell_type": "code",
   "execution_count": 17,
   "metadata": {
    "vscode": {
     "languageId": "r"
    }
   },
   "outputs": [],
   "source": [
    "# estimated gain:\n",
    "myf2 <- function(rho1 = 0.9 ,\n",
    "                   sig_z = 1,\n",
    "                   sig_u1 = 10,\n",
    "                   sig_u2 = 0.001,\n",
    "                   mu_z=0,\n",
    "                   mu_y=0){\n",
    "\n",
    " GG <- matrix(c(1+rho1,-rho1,1,0),nrow=2,byrow=TRUE)\n",
    "  FF <- matrix(c(1,0,0,1),nrow=2,byrow=TRUE)\n",
    "  m0 <- matrix(c(0,0), nrow=2)\n",
    "  C0 <- matrix(rep(0,4),nrow=2)\n",
    "  W <- matrix(c(sig_z,0,0,0),nrow=2,byrow=TRUE)\n",
    "  V <- matrix(c(sig_u1,0,0,sig_u2),nrow=2,byrow=TRUE)\n",
    "  my_dlm3 <- dlm(FF=FF,V=V,GG=GG,W=W,V=V,m0=c(0,0),C0=C0)\n",
    "  y1 <- dlmForecast(my_dlm3, nAhead=20,sampleNew=1)\n",
    "  df <- data.frame(y=y1$newObs, z=y1$newStates)\n",
    "  df$id <- seq.int(nrow(df))\n",
    "  myk <- dlmFilter(as.matrix(df[,1:2]), my_dlm3)\n",
    "  dfk <- data.frame(id=1:nrow(myk$a)) %>% mutate(k11=map(id,my_kgain,1,1,myk,my_dlm3),\n",
    "                                                 k12=map(id,my_kgain,1,2,myk,my_dlm3),\n",
    "                                                 k21=map(id,my_kgain,2,1,myk,my_dlm3),\n",
    "                                                 k22=map(id,my_kgain,2,2,myk,my_dlm3) )\n",
    "  return(tail(dfk,1) %>% select(k11,k22))\n",
    "}\n",
    "\n",
    "\n",
    "df_test <- expand.grid(r=seq(0,.9,.1), sm=c(0.01,1,10), sp=c(0.01,1,10), mu_z=0,mu_y=0) %>% \n",
    " \n",
    "  mutate(kgain=as.vector(pmap(list(rho1=r,sig_z=1,sig_u1=sm,sig_u2=sp,mu_z=0,mu_y=0),myf2))) %>% \n",
    "  unnest(kgain) %>% mutate(k11=unlist(k11,use.names=FALSE),\n",
    "                           k22=unlist(k22,use.names=FALSE)\n",
    "                           )"
   ]
  },
  {
   "cell_type": "code",
   "execution_count": 18,
   "metadata": {
    "vscode": {
     "languageId": "r"
    }
   },
   "outputs": [
    {
     "data": {
      "image/png": "[encoded data removed]",
      "text/plain": [
       "plot without title"
      ]
     },
     "metadata": {
      "image/png": {
       "height": 420,
       "width": 420
      }
     },
     "output_type": "display_data"
    }
   ],
   "source": [
    "ggplot(data=df_test, aes(x=r, y=k11))+geom_line(size=1.1)+\n",
    "  facet_grid(paste0(\"Sigma_y1 = \",format(sm,scientific=F))~paste0(\"Sigma_y2= \",format(sp, scientific=F)))+\n",
    "  labs(x=\"rho1\", y=\"Kalman Gain For Y1 (T=20)\",\n",
    "       title=\"Gain for Y1\",\n",
    "       subtitle=\"Kalman gain increases with rho (Sigma_z fixed at 1)\")"
   ]
  },
  {
   "cell_type": "code",
   "execution_count": 19,
   "metadata": {
    "vscode": {
     "languageId": "r"
    }
   },
   "outputs": [
    {
     "data": {
      "image/png": "[encoded data removed]",
      "text/plain": [
       "plot without title"
      ]
     },
     "metadata": {
      "image/png": {
       "height": 420,
       "width": 420
      }
     },
     "output_type": "display_data"
    }
   ],
   "source": [
    "ggplot(data=df_test, aes(x=r, y=k22))+geom_line(size=1.1)+\n",
    "  facet_grid(paste0(\"Sigma_y1 = \",format(sm,scientific=F))~paste0(\"Sigma_y2= \",format(sp, scientific=F)))+\n",
    "  labs(x=\"rho1\", y=\"Kalman Gain For Y2(T=20)\",\n",
    "       title=\"Gain for Y2\",\n",
    "       subtitle=\"Kalman gain increases with rho (Sigma_z fixed at 1)\")"
   ]
  },
  {
   "cell_type": "code",
   "execution_count": 20,
   "metadata": {
    "vscode": {
     "languageId": "r"
    }
   },
   "outputs": [
    {
     "data": {
      "image/png": "[encoded data removed]",
      "text/plain": [
       "plot without title"
      ]
     },
     "metadata": {
      "image/png": {
       "height": 420,
       "width": 420
      }
     },
     "output_type": "display_data"
    }
   ],
   "source": [
    "ggplot(data=df_test, aes(x=r, y=k11, color=paste0(\"Sigma_y2= \",format(sp, scientific=F)), linetype=paste0(\"Sigma_y1 = \",format(sm,scientific=F))))+geom_path(size=1.1)+\n",
    "  theme(legend.position=\"top\")+\n",
    "  scale_linetype(name=\"sig_u1\")+\n",
    "  scale_color_discrete(name=\"sig_u2\")+\n",
    "    labs(x=\"rho1\", y=\"Kalman Gain For Y2(T=20)\",\n",
    "       title=\"Gain for Y1\",\n",
    "       subtitle=\"Kalman gain increases with rho (Sigma_z fixed at 1)\")"
   ]
  }
 ],
 "metadata": {
  "kernelspec": {
   "display_name": "R 3.3",
   "language": "R",
   "name": "ir33"
  },
  "language_info": {
   "codemirror_mode": "r",
   "file_extension": ".r",
   "mimetype": "text/x-r-source",
   "name": "R",
   "pygments_lexer": "r",
   "version": "4.2.1"
  },
  "orig_nbformat": 4
 },
 "nbformat": 4,
 "nbformat_minor": 2
}
