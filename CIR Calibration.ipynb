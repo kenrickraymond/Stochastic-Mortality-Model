{
 "cells": [
  {
   "attachments": {},
   "cell_type": "markdown",
   "metadata": {},
   "source": [
    "# Package Installation"
   ]
  },
  {
   "cell_type": "code",
   "execution_count": 100,
   "metadata": {
    "vscode": {
     "languageId": "r"
    }
   },
   "outputs": [],
   "source": [
    "library(demography)\n",
    "library(StMoMo)\n",
    "library(lifecontingencies)\n",
    "library(stats4)\n",
    "library(sde)"
   ]
  },
  {
   "attachments": {},
   "cell_type": "markdown",
   "metadata": {},
   "source": [
    "# Data Retrieval"
   ]
  },
  {
   "cell_type": "code",
   "execution_count": 101,
   "metadata": {
    "vscode": {
     "languageId": "r"
    }
   },
   "outputs": [],
   "source": [
    "source(\"credentials.R\")\n",
    "source(\"Mortality Scripts.R\")\n",
    "DNKdata <- hmd.mx(country = \"DNK\", username = username, password = password)\n",
    "\n",
    "# Get the central exposure from Danish male subpopulation ages 50-99 from 1970 to 2014\n",
    "DNKmales = DNKdata[[\"rate\"]]$male[51:100, 145:180]"
   ]
  },
  {
   "attachments": {},
   "cell_type": "markdown",
   "metadata": {},
   "source": [
    "# Parameter Estimation"
   ]
  },
  {
   "cell_type": "code",
   "execution_count": 102,
   "metadata": {
    "vscode": {
     "languageId": "r"
    }
   },
   "outputs": [],
   "source": [
    "source(\"Mortality Scripts.R\")\n",
    "model = affine_fit(\n",
    "  model = \"CIR\",\n",
    "  fact_dep = FALSE,\n",
    "  n_factors = 3,\n",
    "  data = DNKmales,\n",
    "  max_iter = 200,\n",
    "  tolerance = 1\n",
    ")"
   ]
  },
  {
   "cell_type": "code",
   "execution_count": 137,
   "metadata": {
    "vscode": {
     "languageId": "r"
    }
   },
   "outputs": [],
   "source": [
    "# Append the estimated parameters in a list to be inputted in future functions\n",
    "param_est = model$fit$par_est\n",
    "param = list(x0 = as.numeric(param_est$x0), delta = as.numeric(param_est$delta), kappa = as.numeric(param_est$kappa), sigma = as.numeric(param_est$sigma), theta_P = as.numeric(param_est$theta_P),  r1 = as.numeric(param_est$r1), r2 = as.numeric(param_est$r2), rc = as.numeric(param_est$rc))"
   ]
  },
  {
   "cell_type": "code",
   "execution_count": 141,
   "metadata": {
    "vscode": {
     "languageId": "r"
    }
   },
   "outputs": [
    {
     "data": {
      "image/png": "[encoded data removed]",
      "text/plain": [
       "plot without title"
      ]
     },
     "metadata": {
      "image/png": {
       "height": 420,
       "width": 420
      }
     },
     "output_type": "display_data"
    }
   ],
   "source": [
    "# Calculate the Mean Absolute Percentage Error (MAPE)\n",
    "source(\"Mortality Scripts.R\")\n",
    "estimated_mortality = mubar_hat(\n",
    "  model = \"CIR\",\n",
    "  fact_dep = FALSE,\n",
    "  n_factors = 3,\n",
    "  parameters = param,\n",
    "  data = DNKmales\n",
    ")\n",
    "\n",
    "MAPE = MAPE_row(DNKmales, estimated_mortality)\n",
    "plot(seq(50,99,1), MAPE, xlab = \"Age\", ylab = \"Mean Absolute Percentage Error\")\n",
    "axis(side = 1, at = seq(50,99,5))\n",
    "box()"
   ]
  },
  {
   "attachments": {},
   "cell_type": "markdown",
   "metadata": {},
   "source": [
    "# Survival Curve"
   ]
  },
  {
   "cell_type": "code",
   "execution_count": 142,
   "metadata": {
    "vscode": {
     "languageId": "r"
    }
   },
   "outputs": [],
   "source": [
    "source('Mortality Scripts.R')\n",
    "domestic_St = domestic_mubar_hat(\n",
    "  model = \"CIR\",\n",
    "  fact_dep = FALSE,\n",
    "  parameters = param,\n",
    "  data = DNKmales\n",
    ")"
   ]
  },
  {
   "cell_type": "code",
   "execution_count": 143,
   "metadata": {
    "vscode": {
     "languageId": "r"
    }
   },
   "outputs": [],
   "source": [
    "source('Mortality Scripts.R')\n",
    "foreign_St = foreign_mubar_hat(\n",
    "  model = \"CIR\",\n",
    "  fact_dep = FALSE,\n",
    "  parameters = param,\n",
    "  data = DNKmales\n",
    ")"
   ]
  },
  {
   "cell_type": "code",
   "execution_count": 146,
   "metadata": {
    "vscode": {
     "languageId": "r"
    }
   },
   "outputs": [
    {
     "data": {
      "text/html": [
       "<table class=\"dataframe\">\n",
       "<caption>A matrix: 6 × 36 of type dbl</caption>\n",
       "<tbody>\n",
       "\t<tr><td>0.002072606</td><td>0.002242101</td><td>0.002497925</td><td>0.002992235</td><td>0.004307651</td><td>0.006642861</td><td>0.010191958</td><td>0.013956636</td><td>0.016992705</td><td>0.018440563</td><td>⋯</td><td>0.013321395</td><td>0.013474709</td><td>0.013515874</td><td>0.012918580</td><td>0.012489465</td><td>0.012320328</td><td>0.011598604</td><td>0.011098925</td><td>0.010709802</td><td>0.010312328</td></tr>\n",
       "\t<tr><td>0.002256030</td><td>0.002374200</td><td>0.002499697</td><td>0.002691870</td><td>0.003372645</td><td>0.004523819</td><td>0.006294984</td><td>0.008143522</td><td>0.009643390</td><td>0.010369562</td><td>⋯</td><td>0.007578668</td><td>0.007643382</td><td>0.007635684</td><td>0.007322348</td><td>0.007097682</td><td>0.006990906</td><td>0.006590498</td><td>0.006325230</td><td>0.006116112</td><td>0.005881734</td></tr>\n",
       "\t<tr><td>0.002485632</td><td>0.002591299</td><td>0.002673020</td><td>0.002756905</td><td>0.003229310</td><td>0.003983542</td><td>0.005161595</td><td>0.006366761</td><td>0.007352059</td><td>0.007837977</td><td>⋯</td><td>0.005791303</td><td>0.005824838</td><td>0.005796956</td><td>0.005576248</td><td>0.005418339</td><td>0.005329290</td><td>0.005030538</td><td>0.004841282</td><td>0.004690159</td><td>0.004505236</td></tr>\n",
       "\t<tr><td>0.002752882</td><td>0.002856465</td><td>0.002915998</td><td>0.002938882</td><td>0.003309979</td><td>0.003863691</td><td>0.004744765</td><td>0.005624031</td><td>0.006349777</td><td>0.006715849</td><td>⋯</td><td>0.005012441</td><td>0.005028898</td><td>0.004987396</td><td>0.004811171</td><td>0.004685381</td><td>0.004602425</td><td>0.004349570</td><td>0.004196397</td><td>0.004072456</td><td>0.003907817</td></tr>\n",
       "\t<tr><td>0.003060386</td><td>0.003166742</td><td>0.003212670</td><td>0.003192337</td><td>0.003505425</td><td>0.003936847</td><td>0.004639327</td><td>0.005318984</td><td>0.005886813</td><td>0.006181247</td><td>⋯</td><td>0.004655957</td><td>0.004660729</td><td>0.004607652</td><td>0.004456348</td><td>0.004348612</td><td>0.004266640</td><td>0.004036564</td><td>0.003903183</td><td>0.003793799</td><td>0.003637040</td></tr>\n",
       "\t<tr><td>0.003413346</td><td>0.003525595</td><td>0.003562161</td><td>0.003506362</td><td>0.003783569</td><td>0.004131476</td><td>0.004714484</td><td>0.005256977</td><td>0.005717329</td><td>0.005964275</td><td>⋯</td><td>0.004529738</td><td>0.004525275</td><td>0.004461059</td><td>0.004324592</td><td>0.004227668</td><td>0.004143665</td><td>0.003923987</td><td>0.003801934</td><td>0.003700494</td><td>0.003544675</td></tr>\n",
       "</tbody>\n",
       "</table>\n"
      ],
      "text/latex": [
       "A matrix: 6 × 36 of type dbl\n",
       "\\begin{tabular}{lllllllllllllllllllll}\n",
       "\t 0.002072606 & 0.002242101 & 0.002497925 & 0.002992235 & 0.004307651 & 0.006642861 & 0.010191958 & 0.013956636 & 0.016992705 & 0.018440563 & ⋯ & 0.013321395 & 0.013474709 & 0.013515874 & 0.012918580 & 0.012489465 & 0.012320328 & 0.011598604 & 0.011098925 & 0.010709802 & 0.010312328\\\\\n",
       "\t 0.002256030 & 0.002374200 & 0.002499697 & 0.002691870 & 0.003372645 & 0.004523819 & 0.006294984 & 0.008143522 & 0.009643390 & 0.010369562 & ⋯ & 0.007578668 & 0.007643382 & 0.007635684 & 0.007322348 & 0.007097682 & 0.006990906 & 0.006590498 & 0.006325230 & 0.006116112 & 0.005881734\\\\\n",
       "\t 0.002485632 & 0.002591299 & 0.002673020 & 0.002756905 & 0.003229310 & 0.003983542 & 0.005161595 & 0.006366761 & 0.007352059 & 0.007837977 & ⋯ & 0.005791303 & 0.005824838 & 0.005796956 & 0.005576248 & 0.005418339 & 0.005329290 & 0.005030538 & 0.004841282 & 0.004690159 & 0.004505236\\\\\n",
       "\t 0.002752882 & 0.002856465 & 0.002915998 & 0.002938882 & 0.003309979 & 0.003863691 & 0.004744765 & 0.005624031 & 0.006349777 & 0.006715849 & ⋯ & 0.005012441 & 0.005028898 & 0.004987396 & 0.004811171 & 0.004685381 & 0.004602425 & 0.004349570 & 0.004196397 & 0.004072456 & 0.003907817\\\\\n",
       "\t 0.003060386 & 0.003166742 & 0.003212670 & 0.003192337 & 0.003505425 & 0.003936847 & 0.004639327 & 0.005318984 & 0.005886813 & 0.006181247 & ⋯ & 0.004655957 & 0.004660729 & 0.004607652 & 0.004456348 & 0.004348612 & 0.004266640 & 0.004036564 & 0.003903183 & 0.003793799 & 0.003637040\\\\\n",
       "\t 0.003413346 & 0.003525595 & 0.003562161 & 0.003506362 & 0.003783569 & 0.004131476 & 0.004714484 & 0.005256977 & 0.005717329 & 0.005964275 & ⋯ & 0.004529738 & 0.004525275 & 0.004461059 & 0.004324592 & 0.004227668 & 0.004143665 & 0.003923987 & 0.003801934 & 0.003700494 & 0.003544675\\\\\n",
       "\\end{tabular}\n"
      ],
      "text/markdown": [
       "\n",
       "A matrix: 6 × 36 of type dbl\n",
       "\n",
       "| 0.002072606 | 0.002242101 | 0.002497925 | 0.002992235 | 0.004307651 | 0.006642861 | 0.010191958 | 0.013956636 | 0.016992705 | 0.018440563 | ⋯ | 0.013321395 | 0.013474709 | 0.013515874 | 0.012918580 | 0.012489465 | 0.012320328 | 0.011598604 | 0.011098925 | 0.010709802 | 0.010312328 |\n",
       "| 0.002256030 | 0.002374200 | 0.002499697 | 0.002691870 | 0.003372645 | 0.004523819 | 0.006294984 | 0.008143522 | 0.009643390 | 0.010369562 | ⋯ | 0.007578668 | 0.007643382 | 0.007635684 | 0.007322348 | 0.007097682 | 0.006990906 | 0.006590498 | 0.006325230 | 0.006116112 | 0.005881734 |\n",
       "| 0.002485632 | 0.002591299 | 0.002673020 | 0.002756905 | 0.003229310 | 0.003983542 | 0.005161595 | 0.006366761 | 0.007352059 | 0.007837977 | ⋯ | 0.005791303 | 0.005824838 | 0.005796956 | 0.005576248 | 0.005418339 | 0.005329290 | 0.005030538 | 0.004841282 | 0.004690159 | 0.004505236 |\n",
       "| 0.002752882 | 0.002856465 | 0.002915998 | 0.002938882 | 0.003309979 | 0.003863691 | 0.004744765 | 0.005624031 | 0.006349777 | 0.006715849 | ⋯ | 0.005012441 | 0.005028898 | 0.004987396 | 0.004811171 | 0.004685381 | 0.004602425 | 0.004349570 | 0.004196397 | 0.004072456 | 0.003907817 |\n",
       "| 0.003060386 | 0.003166742 | 0.003212670 | 0.003192337 | 0.003505425 | 0.003936847 | 0.004639327 | 0.005318984 | 0.005886813 | 0.006181247 | ⋯ | 0.004655957 | 0.004660729 | 0.004607652 | 0.004456348 | 0.004348612 | 0.004266640 | 0.004036564 | 0.003903183 | 0.003793799 | 0.003637040 |\n",
       "| 0.003413346 | 0.003525595 | 0.003562161 | 0.003506362 | 0.003783569 | 0.004131476 | 0.004714484 | 0.005256977 | 0.005717329 | 0.005964275 | ⋯ | 0.004529738 | 0.004525275 | 0.004461059 | 0.004324592 | 0.004227668 | 0.004143665 | 0.003923987 | 0.003801934 | 0.003700494 | 0.003544675 |\n",
       "\n"
      ],
      "text/plain": [
       "     [,1]        [,2]        [,3]        [,4]        [,5]        [,6]       \n",
       "[1,] 0.002072606 0.002242101 0.002497925 0.002992235 0.004307651 0.006642861\n",
       "[2,] 0.002256030 0.002374200 0.002499697 0.002691870 0.003372645 0.004523819\n",
       "[3,] 0.002485632 0.002591299 0.002673020 0.002756905 0.003229310 0.003983542\n",
       "[4,] 0.002752882 0.002856465 0.002915998 0.002938882 0.003309979 0.003863691\n",
       "[5,] 0.003060386 0.003166742 0.003212670 0.003192337 0.003505425 0.003936847\n",
       "[6,] 0.003413346 0.003525595 0.003562161 0.003506362 0.003783569 0.004131476\n",
       "     [,7]        [,8]        [,9]        [,10]       [,11] [,12]      \n",
       "[1,] 0.010191958 0.013956636 0.016992705 0.018440563 ⋯     0.013321395\n",
       "[2,] 0.006294984 0.008143522 0.009643390 0.010369562 ⋯     0.007578668\n",
       "[3,] 0.005161595 0.006366761 0.007352059 0.007837977 ⋯     0.005791303\n",
       "[4,] 0.004744765 0.005624031 0.006349777 0.006715849 ⋯     0.005012441\n",
       "[5,] 0.004639327 0.005318984 0.005886813 0.006181247 ⋯     0.004655957\n",
       "[6,] 0.004714484 0.005256977 0.005717329 0.005964275 ⋯     0.004529738\n",
       "     [,13]       [,14]       [,15]       [,16]       [,17]       [,18]      \n",
       "[1,] 0.013474709 0.013515874 0.012918580 0.012489465 0.012320328 0.011598604\n",
       "[2,] 0.007643382 0.007635684 0.007322348 0.007097682 0.006990906 0.006590498\n",
       "[3,] 0.005824838 0.005796956 0.005576248 0.005418339 0.005329290 0.005030538\n",
       "[4,] 0.005028898 0.004987396 0.004811171 0.004685381 0.004602425 0.004349570\n",
       "[5,] 0.004660729 0.004607652 0.004456348 0.004348612 0.004266640 0.004036564\n",
       "[6,] 0.004525275 0.004461059 0.004324592 0.004227668 0.004143665 0.003923987\n",
       "     [,19]       [,20]       [,21]      \n",
       "[1,] 0.011098925 0.010709802 0.010312328\n",
       "[2,] 0.006325230 0.006116112 0.005881734\n",
       "[3,] 0.004841282 0.004690159 0.004505236\n",
       "[4,] 0.004196397 0.004072456 0.003907817\n",
       "[5,] 0.003903183 0.003793799 0.003637040\n",
       "[6,] 0.003801934 0.003700494 0.003544675"
      ]
     },
     "metadata": {},
     "output_type": "display_data"
    },
    {
     "data": {
      "text/html": [
       "<table class=\"dataframe\">\n",
       "<caption>A matrix: 6 × 36 of type dbl</caption>\n",
       "<tbody>\n",
       "\t<tr><td>0.007348373</td><td>0.007512855</td><td>0.007515614</td><td>0.007242152</td><td>0.007350755</td><td>0.007208008</td><td>0.007244430</td><td>0.007219300</td><td>0.007045846</td><td>0.006952384</td><td>⋯</td><td>0.004425891</td><td>0.004488598</td><td>0.004292253</td><td>0.004102290</td><td>0.003980881</td><td>0.003878341</td><td>0.003625778</td><td>0.003504591</td><td>0.003340006</td><td>0.003239774</td></tr>\n",
       "\t<tr><td>0.007947368</td><td>0.008124063</td><td>0.008126870</td><td>0.007831060</td><td>0.007948678</td><td>0.007795037</td><td>0.007834111</td><td>0.007805656</td><td>0.007619024</td><td>0.007519110</td><td>⋯</td><td>0.004800192</td><td>0.004866787</td><td>0.004654932</td><td>0.004450618</td><td>0.004320014</td><td>0.004208999</td><td>0.003936299</td><td>0.003805638</td><td>0.003628531</td><td>0.003519279</td></tr>\n",
       "\t<tr><td>0.008609406</td><td>0.008799461</td><td>0.008802298</td><td>0.008481721</td><td>0.008609349</td><td>0.008443745</td><td>0.008485713</td><td>0.008453392</td><td>0.008252297</td><td>0.008145401</td><td>⋯</td><td>0.005215231</td><td>0.005285960</td><td>0.005056991</td><td>0.004836940</td><td>0.004696249</td><td>0.004575829</td><td>0.004280885</td><td>0.004139787</td><td>0.003948934</td><td>0.003829568</td></tr>\n",
       "\t<tr><td>0.009341680</td><td>0.009546349</td><td>0.009549189</td><td>0.009201141</td><td>0.009339896</td><td>0.009161150</td><td>0.009206274</td><td>0.009169454</td><td>0.008952483</td><td>0.008838039</td><td>⋯</td><td>0.005675887</td><td>0.005750995</td><td>0.005503134</td><td>0.005265822</td><td>0.005114063</td><td>0.004983197</td><td>0.004663663</td><td>0.004511060</td><td>0.004305114</td><td>0.004174391</td></tr>\n",
       "\t<tr><td>0.010152178</td><td>0.010372830</td><td>0.010375639</td><td>0.009997093</td><td>0.010148229</td><td>0.009955045</td><td>0.010003608</td><td>0.009961545</td><td>0.009727144</td><td>0.009604555</td><td>⋯</td><td>0.006187630</td><td>0.006267356</td><td>0.005998627</td><td>0.005742383</td><td>0.005578480</td><td>0.005435998</td><td>0.005089265</td><td>0.004923974</td><td>0.004701456</td><td>0.004557962</td></tr>\n",
       "\t<tr><td>0.011049755</td><td>0.011287878</td><td>0.011290612</td><td>0.010878184</td><td>0.011043106</td><td>0.010834062</td><td>0.010886371</td><td>0.010838186</td><td>0.010584653</td><td>0.010453290</td><td>⋯</td><td>0.006756579</td><td>0.006841149</td><td>0.006549360</td><td>0.006272357</td><td>0.006095131</td><td>0.005939721</td><td>0.005562887</td><td>0.005383601</td><td>0.005142886</td><td>0.004985012</td></tr>\n",
       "</tbody>\n",
       "</table>\n"
      ],
      "text/latex": [
       "A matrix: 6 × 36 of type dbl\n",
       "\\begin{tabular}{lllllllllllllllllllll}\n",
       "\t 0.007348373 & 0.007512855 & 0.007515614 & 0.007242152 & 0.007350755 & 0.007208008 & 0.007244430 & 0.007219300 & 0.007045846 & 0.006952384 & ⋯ & 0.004425891 & 0.004488598 & 0.004292253 & 0.004102290 & 0.003980881 & 0.003878341 & 0.003625778 & 0.003504591 & 0.003340006 & 0.003239774\\\\\n",
       "\t 0.007947368 & 0.008124063 & 0.008126870 & 0.007831060 & 0.007948678 & 0.007795037 & 0.007834111 & 0.007805656 & 0.007619024 & 0.007519110 & ⋯ & 0.004800192 & 0.004866787 & 0.004654932 & 0.004450618 & 0.004320014 & 0.004208999 & 0.003936299 & 0.003805638 & 0.003628531 & 0.003519279\\\\\n",
       "\t 0.008609406 & 0.008799461 & 0.008802298 & 0.008481721 & 0.008609349 & 0.008443745 & 0.008485713 & 0.008453392 & 0.008252297 & 0.008145401 & ⋯ & 0.005215231 & 0.005285960 & 0.005056991 & 0.004836940 & 0.004696249 & 0.004575829 & 0.004280885 & 0.004139787 & 0.003948934 & 0.003829568\\\\\n",
       "\t 0.009341680 & 0.009546349 & 0.009549189 & 0.009201141 & 0.009339896 & 0.009161150 & 0.009206274 & 0.009169454 & 0.008952483 & 0.008838039 & ⋯ & 0.005675887 & 0.005750995 & 0.005503134 & 0.005265822 & 0.005114063 & 0.004983197 & 0.004663663 & 0.004511060 & 0.004305114 & 0.004174391\\\\\n",
       "\t 0.010152178 & 0.010372830 & 0.010375639 & 0.009997093 & 0.010148229 & 0.009955045 & 0.010003608 & 0.009961545 & 0.009727144 & 0.009604555 & ⋯ & 0.006187630 & 0.006267356 & 0.005998627 & 0.005742383 & 0.005578480 & 0.005435998 & 0.005089265 & 0.004923974 & 0.004701456 & 0.004557962\\\\\n",
       "\t 0.011049755 & 0.011287878 & 0.011290612 & 0.010878184 & 0.011043106 & 0.010834062 & 0.010886371 & 0.010838186 & 0.010584653 & 0.010453290 & ⋯ & 0.006756579 & 0.006841149 & 0.006549360 & 0.006272357 & 0.006095131 & 0.005939721 & 0.005562887 & 0.005383601 & 0.005142886 & 0.004985012\\\\\n",
       "\\end{tabular}\n"
      ],
      "text/markdown": [
       "\n",
       "A matrix: 6 × 36 of type dbl\n",
       "\n",
       "| 0.007348373 | 0.007512855 | 0.007515614 | 0.007242152 | 0.007350755 | 0.007208008 | 0.007244430 | 0.007219300 | 0.007045846 | 0.006952384 | ⋯ | 0.004425891 | 0.004488598 | 0.004292253 | 0.004102290 | 0.003980881 | 0.003878341 | 0.003625778 | 0.003504591 | 0.003340006 | 0.003239774 |\n",
       "| 0.007947368 | 0.008124063 | 0.008126870 | 0.007831060 | 0.007948678 | 0.007795037 | 0.007834111 | 0.007805656 | 0.007619024 | 0.007519110 | ⋯ | 0.004800192 | 0.004866787 | 0.004654932 | 0.004450618 | 0.004320014 | 0.004208999 | 0.003936299 | 0.003805638 | 0.003628531 | 0.003519279 |\n",
       "| 0.008609406 | 0.008799461 | 0.008802298 | 0.008481721 | 0.008609349 | 0.008443745 | 0.008485713 | 0.008453392 | 0.008252297 | 0.008145401 | ⋯ | 0.005215231 | 0.005285960 | 0.005056991 | 0.004836940 | 0.004696249 | 0.004575829 | 0.004280885 | 0.004139787 | 0.003948934 | 0.003829568 |\n",
       "| 0.009341680 | 0.009546349 | 0.009549189 | 0.009201141 | 0.009339896 | 0.009161150 | 0.009206274 | 0.009169454 | 0.008952483 | 0.008838039 | ⋯ | 0.005675887 | 0.005750995 | 0.005503134 | 0.005265822 | 0.005114063 | 0.004983197 | 0.004663663 | 0.004511060 | 0.004305114 | 0.004174391 |\n",
       "| 0.010152178 | 0.010372830 | 0.010375639 | 0.009997093 | 0.010148229 | 0.009955045 | 0.010003608 | 0.009961545 | 0.009727144 | 0.009604555 | ⋯ | 0.006187630 | 0.006267356 | 0.005998627 | 0.005742383 | 0.005578480 | 0.005435998 | 0.005089265 | 0.004923974 | 0.004701456 | 0.004557962 |\n",
       "| 0.011049755 | 0.011287878 | 0.011290612 | 0.010878184 | 0.011043106 | 0.010834062 | 0.010886371 | 0.010838186 | 0.010584653 | 0.010453290 | ⋯ | 0.006756579 | 0.006841149 | 0.006549360 | 0.006272357 | 0.006095131 | 0.005939721 | 0.005562887 | 0.005383601 | 0.005142886 | 0.004985012 |\n",
       "\n"
      ],
      "text/plain": [
       "     [,1]        [,2]        [,3]        [,4]        [,5]        [,6]       \n",
       "[1,] 0.007348373 0.007512855 0.007515614 0.007242152 0.007350755 0.007208008\n",
       "[2,] 0.007947368 0.008124063 0.008126870 0.007831060 0.007948678 0.007795037\n",
       "[3,] 0.008609406 0.008799461 0.008802298 0.008481721 0.008609349 0.008443745\n",
       "[4,] 0.009341680 0.009546349 0.009549189 0.009201141 0.009339896 0.009161150\n",
       "[5,] 0.010152178 0.010372830 0.010375639 0.009997093 0.010148229 0.009955045\n",
       "[6,] 0.011049755 0.011287878 0.011290612 0.010878184 0.011043106 0.010834062\n",
       "     [,7]        [,8]        [,9]        [,10]       [,11] [,12]      \n",
       "[1,] 0.007244430 0.007219300 0.007045846 0.006952384 ⋯     0.004425891\n",
       "[2,] 0.007834111 0.007805656 0.007619024 0.007519110 ⋯     0.004800192\n",
       "[3,] 0.008485713 0.008453392 0.008252297 0.008145401 ⋯     0.005215231\n",
       "[4,] 0.009206274 0.009169454 0.008952483 0.008838039 ⋯     0.005675887\n",
       "[5,] 0.010003608 0.009961545 0.009727144 0.009604555 ⋯     0.006187630\n",
       "[6,] 0.010886371 0.010838186 0.010584653 0.010453290 ⋯     0.006756579\n",
       "     [,13]       [,14]       [,15]       [,16]       [,17]       [,18]      \n",
       "[1,] 0.004488598 0.004292253 0.004102290 0.003980881 0.003878341 0.003625778\n",
       "[2,] 0.004866787 0.004654932 0.004450618 0.004320014 0.004208999 0.003936299\n",
       "[3,] 0.005285960 0.005056991 0.004836940 0.004696249 0.004575829 0.004280885\n",
       "[4,] 0.005750995 0.005503134 0.005265822 0.005114063 0.004983197 0.004663663\n",
       "[5,] 0.006267356 0.005998627 0.005742383 0.005578480 0.005435998 0.005089265\n",
       "[6,] 0.006841149 0.006549360 0.006272357 0.006095131 0.005939721 0.005562887\n",
       "     [,19]       [,20]       [,21]      \n",
       "[1,] 0.003504591 0.003340006 0.003239774\n",
       "[2,] 0.003805638 0.003628531 0.003519279\n",
       "[3,] 0.004139787 0.003948934 0.003829568\n",
       "[4,] 0.004511060 0.004305114 0.004174391\n",
       "[5,] 0.004923974 0.004701456 0.004557962\n",
       "[6,] 0.005383601 0.005142886 0.004985012"
      ]
     },
     "metadata": {},
     "output_type": "display_data"
    }
   ],
   "source": [
    "head(domestic_St)\n",
    "head(foreign_St)"
   ]
  }
 ],
 "metadata": {
  "kernelspec": {
   "display_name": "R 3.3",
   "language": "R",
   "name": "ir33"
  },
  "language_info": {
   "codemirror_mode": "r",
   "file_extension": ".r",
   "mimetype": "text/x-r-source",
   "name": "R",
   "pygments_lexer": "r",
   "version": "4.2.1"
  },
  "orig_nbformat": 4,
  "vscode": {
   "interpreter": {
    "hash": "18778d26e07f5cf51433672e0dce97692ca0a2fce0f52f31686447156d36a51f"
   }
  }
 },
 "nbformat": 4,
 "nbformat_minor": 2
}
