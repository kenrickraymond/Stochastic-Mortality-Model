{
 "cells": [
  {
   "cell_type": "markdown",
   "metadata": {},
   "source": [
    "This is based on https://github.com/amvillegas/LT100_2020"
   ]
  },
  {
   "cell_type": "code",
   "execution_count": 9,
   "metadata": {
    "vscode": {
     "languageId": "r"
    }
   },
   "outputs": [],
   "source": [
    "# install.packages(\"demography\")\n",
    "# install.packages(\"StMoMo\")\n",
    "# install.packages(\"lifecontingencies\")"
   ]
  },
  {
   "cell_type": "code",
   "execution_count": 4,
   "metadata": {
    "vscode": {
     "languageId": "r"
    }
   },
   "outputs": [
    {
     "name": "stderr",
     "output_type": "stream",
     "text": [
      "Warning message:\n",
      "\"package 'demography' was built under R version 4.2.2\"\n",
      "Loading required package: forecast\n",
      "\n",
      "Registered S3 method overwritten by 'quantmod':\n",
      "  method            from\n",
      "  as.zoo.data.frame zoo \n",
      "\n",
      "Registered S3 methods overwritten by 'demography':\n",
      "  method      from \n",
      "  print.lca   e1071\n",
      "  summary.lca e1071\n",
      "\n",
      "This is demography 1.22 \n",
      "\n",
      "\n",
      "Warning message:\n",
      "\"package 'StMoMo' was built under R version 4.2.2\"\n",
      "Loading required package: gnm\n",
      "\n",
      "Warning message:\n",
      "\"package 'lifecontingencies' was built under R version 4.2.2\"\n",
      "Package:  lifecontingencies\n",
      "Authors:  Giorgio Alfredo Spedicato [aut, cre]\n",
      "    (<https://orcid.org/0000-0002-0315-8888>),\n",
      "  Christophe Dutang [ctb] (<https://orcid.org/0000-0001-6732-1501>),\n",
      "  Reinhold Kainhofer [ctb] (<https://orcid.org/0000-0002-7895-1311>),\n",
      "  Kevin J Owens [ctb],\n",
      "  Ernesto Schirmacher [ctb],\n",
      "  Gian Paolo Clemente [ctb] (<https://orcid.org/0000-0001-6795-4595>),\n",
      "  Ivan Williams [ctb]\n",
      "Version:  1.3.9\n",
      "Date:     2022-06-10 22:20:02 UTC\n",
      "BugReport: https://github.com/spedygiorgio/lifecontingencies/issues\n",
      "\n",
      "\n"
     ]
    }
   ],
   "source": [
    "# %%capture\n",
    "library(demography)\n",
    "library(StMoMo)\n",
    "library(lifecontingencies)"
   ]
  },
  {
   "cell_type": "code",
   "execution_count": null,
   "metadata": {
    "vscode": {
     "languageId": "r"
    }
   },
   "outputs": [],
   "source": [
    "\n",
    "\n",
    "\n",
    "source(\"Mortality Scripts.R\")\n",
    "USdata <- hmd.mx(country = \"USA\", username = username, password = password)"
   ]
  },
  {
   "cell_type": "code",
   "execution_count": null,
   "metadata": {
    "vscode": {
     "languageId": "r"
    }
   },
   "outputs": [],
   "source": [
    "plot(USdata, series = \"male\")\n",
    "plot(USdata, series = \"male\", plot.type = \"time\")"
   ]
  },
  {
   "cell_type": "code",
   "execution_count": null,
   "metadata": {
    "vscode": {
     "languageId": "r"
    }
   },
   "outputs": [],
   "source": [
    "LC <- lc()\n",
    "CBD <- cbd(link = \"log\")\n",
    "APC <- apc()\n",
    "M7 <- m7(link = \"log\")\n",
    "\n",
    "USmale <- StMoMoData(USdata, series = \"male\")\n",
    "LCfit <- fit(LC, data = USmale)\n",
    "plot(LCfit)"
   ]
  },
  {
   "cell_type": "markdown",
   "metadata": {},
   "source": [
    "Suppose we want to limit the ages that are being considered"
   ]
  },
  {
   "cell_type": "code",
   "execution_count": null,
   "metadata": {
    "vscode": {
     "languageId": "r"
    }
   },
   "outputs": [],
   "source": [
    "ages.fit <- 60:89\n",
    "years.fit <- 1968:2017\n",
    "\n",
    "LCfit <- fit(LC, data=USmale, ages.fit=ages.fit,\n",
    "years.fit=years.fit)\n",
    "CBDfit <- fit(CBD, data=USmale, ages.fit=ages.fit,\n",
    "years.fit=years.fit)\n",
    "APCfit <- fit(APC, data=USmale, ages.fit=ages.fit,\n",
    "years.fit=years.fit)\n",
    "M7fit <- fit(M7, data=USmale, ages.fit=ages.fit,\n",
    "years.fit=years.fit)\n"
   ]
  },
  {
   "cell_type": "code",
   "execution_count": null,
   "metadata": {
    "vscode": {
     "languageId": "r"
    }
   },
   "outputs": [],
   "source": [
    "plot(LCfit)"
   ]
  },
  {
   "cell_type": "code",
   "execution_count": null,
   "metadata": {
    "vscode": {
     "languageId": "r"
    }
   },
   "outputs": [],
   "source": [
    "plot(APCfit, parametricbx = FALSE)"
   ]
  },
  {
   "cell_type": "code",
   "execution_count": null,
   "metadata": {
    "vscode": {
     "languageId": "r"
    }
   },
   "outputs": [],
   "source": [
    "plot(CBDfit, parametricbx = FALSE)"
   ]
  },
  {
   "cell_type": "code",
   "execution_count": null,
   "metadata": {
    "vscode": {
     "languageId": "r"
    }
   },
   "outputs": [],
   "source": [
    "LCres <- residuals(LCfit)\n",
    "APCres <- residuals(APCfit)\n",
    "CBDres <- residuals(CBDfit)\n",
    "M7res <- residuals(M7fit)"
   ]
  },
  {
   "cell_type": "code",
   "execution_count": null,
   "metadata": {
    "vscode": {
     "languageId": "r"
    }
   },
   "outputs": [],
   "source": [
    "plot(LCres, type = \"colourmap\", reslim = c(-3.5, 3.5))"
   ]
  }
 ],
 "metadata": {
  "kernelspec": {
   "display_name": "R",
   "language": "R",
   "name": "ir"
  },
  "language_info": {
   "codemirror_mode": "r",
   "file_extension": ".r",
   "mimetype": "text/x-r-source",
   "name": "R",
   "pygments_lexer": "r",
   "version": "4.2.1"
  },
  "orig_nbformat": 4
 },
 "nbformat": 4,
 "nbformat_minor": 2
}
