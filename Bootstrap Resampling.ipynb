{
 "cells": [
  {
   "cell_type": "markdown",
   "metadata": {},
   "source": [
    "This is based on https://towardsdatascience.com/bootstrap-sampling-in-r-a7bc9d3ca14a"
   ]
  },
  {
   "cell_type": "code",
   "execution_count": 1,
   "metadata": {
    "vscode": {
     "languageId": "r"
    }
   },
   "outputs": [
    {
     "name": "stderr",
     "output_type": "stream",
     "text": [
      "── \u001b[1mAttaching packages\u001b[22m ─────────────────────────────────────── tidyverse 1.3.2 ──\n",
      "\u001b[32m✔\u001b[39m \u001b[34mggplot2\u001b[39m 3.3.6      \u001b[32m✔\u001b[39m \u001b[34mpurrr  \u001b[39m 0.3.5 \n",
      "\u001b[32m✔\u001b[39m \u001b[34mtibble \u001b[39m 3.1.8      \u001b[32m✔\u001b[39m \u001b[34mdplyr  \u001b[39m 1.0.10\n",
      "\u001b[32m✔\u001b[39m \u001b[34mtidyr  \u001b[39m 1.2.1      \u001b[32m✔\u001b[39m \u001b[34mstringr\u001b[39m 1.4.1 \n",
      "\u001b[32m✔\u001b[39m \u001b[34mreadr  \u001b[39m 2.1.3      \u001b[32m✔\u001b[39m \u001b[34mforcats\u001b[39m 0.5.2 \n",
      "── \u001b[1mConflicts\u001b[22m ────────────────────────────────────────── tidyverse_conflicts() ──\n",
      "\u001b[31m✖\u001b[39m \u001b[34mdplyr\u001b[39m::\u001b[32mfilter()\u001b[39m masks \u001b[34mstats\u001b[39m::filter()\n",
      "\u001b[31m✖\u001b[39m \u001b[34mdplyr\u001b[39m::\u001b[32mlag()\u001b[39m    masks \u001b[34mstats\u001b[39m::lag()\n",
      "── \u001b[1mAttaching packages\u001b[22m ────────────────────────────────────── tidymodels 1.0.0 ──\n",
      "\n",
      "\u001b[32m✔\u001b[39m \u001b[34mbroom       \u001b[39m 1.0.1     \u001b[32m✔\u001b[39m \u001b[34mrsample     \u001b[39m 1.1.0\n",
      "\u001b[32m✔\u001b[39m \u001b[34mdials       \u001b[39m 1.0.0     \u001b[32m✔\u001b[39m \u001b[34mtune        \u001b[39m 1.0.0\n",
      "\u001b[32m✔\u001b[39m \u001b[34minfer       \u001b[39m 1.0.3     \u001b[32m✔\u001b[39m \u001b[34mworkflows   \u001b[39m 1.1.0\n",
      "\u001b[32m✔\u001b[39m \u001b[34mmodeldata   \u001b[39m 1.0.1     \u001b[32m✔\u001b[39m \u001b[34mworkflowsets\u001b[39m 1.0.0\n",
      "\u001b[32m✔\u001b[39m \u001b[34mparsnip     \u001b[39m 1.0.2     \u001b[32m✔\u001b[39m \u001b[34myardstick   \u001b[39m 1.1.0\n",
      "\u001b[32m✔\u001b[39m \u001b[34mrecipes     \u001b[39m 1.0.1     \n",
      "\n",
      "── \u001b[1mConflicts\u001b[22m ───────────────────────────────────────── tidymodels_conflicts() ──\n",
      "\u001b[31m✖\u001b[39m \u001b[34mscales\u001b[39m::\u001b[32mdiscard()\u001b[39m masks \u001b[34mpurrr\u001b[39m::discard()\n",
      "\u001b[31m✖\u001b[39m \u001b[34mdplyr\u001b[39m::\u001b[32mfilter()\u001b[39m   masks \u001b[34mstats\u001b[39m::filter()\n",
      "\u001b[31m✖\u001b[39m \u001b[34mrecipes\u001b[39m::\u001b[32mfixed()\u001b[39m  masks \u001b[34mstringr\u001b[39m::fixed()\n",
      "\u001b[31m✖\u001b[39m \u001b[34mdplyr\u001b[39m::\u001b[32mlag()\u001b[39m      masks \u001b[34mstats\u001b[39m::lag()\n",
      "\u001b[31m✖\u001b[39m \u001b[34myardstick\u001b[39m::\u001b[32mspec()\u001b[39m masks \u001b[34mreadr\u001b[39m::spec()\n",
      "\u001b[31m✖\u001b[39m \u001b[34mrecipes\u001b[39m::\u001b[32mstep()\u001b[39m   masks \u001b[34mstats\u001b[39m::step()\n",
      "\u001b[34m•\u001b[39m Learn how to get started at \u001b[32mhttps://www.tidymodels.org/start/\u001b[39m\n",
      "\n"
     ]
    },
    {
     "data": {
      "text/html": [
       "<table class=\"dataframe\">\n",
       "<caption>A tibble: 6 × 4</caption>\n",
       "<thead>\n",
       "\t<tr><th scope=col>type</th><th scope=col>year</th><th scope=col>tuition_type</th><th scope=col>tuition_cost</th></tr>\n",
       "\t<tr><th scope=col>&lt;chr&gt;</th><th scope=col>&lt;chr&gt;</th><th scope=col>&lt;chr&gt;</th><th scope=col>&lt;dbl&gt;</th></tr>\n",
       "</thead>\n",
       "<tbody>\n",
       "\t<tr><td>All Institutions</td><td>1985-86</td><td>All Constant   </td><td>10893</td></tr>\n",
       "\t<tr><td>All Institutions</td><td>1985-86</td><td>4 Year Constant</td><td>12274</td></tr>\n",
       "\t<tr><td>All Institutions</td><td>1985-86</td><td>2 Year Constant</td><td> 7508</td></tr>\n",
       "\t<tr><td>All Institutions</td><td>1985-86</td><td>All Current    </td><td> 4885</td></tr>\n",
       "\t<tr><td>All Institutions</td><td>1985-86</td><td>4 Year Current </td><td> 5504</td></tr>\n",
       "\t<tr><td>All Institutions</td><td>1985-86</td><td>2 Year Current </td><td> 3367</td></tr>\n",
       "</tbody>\n",
       "</table>\n"
      ],
      "text/latex": [
       "A tibble: 6 × 4\n",
       "\\begin{tabular}{llll}\n",
       " type & year & tuition\\_type & tuition\\_cost\\\\\n",
       " <chr> & <chr> & <chr> & <dbl>\\\\\n",
       "\\hline\n",
       "\t All Institutions & 1985-86 & All Constant    & 10893\\\\\n",
       "\t All Institutions & 1985-86 & 4 Year Constant & 12274\\\\\n",
       "\t All Institutions & 1985-86 & 2 Year Constant &  7508\\\\\n",
       "\t All Institutions & 1985-86 & All Current     &  4885\\\\\n",
       "\t All Institutions & 1985-86 & 4 Year Current  &  5504\\\\\n",
       "\t All Institutions & 1985-86 & 2 Year Current  &  3367\\\\\n",
       "\\end{tabular}\n"
      ],
      "text/markdown": [
       "\n",
       "A tibble: 6 × 4\n",
       "\n",
       "| type &lt;chr&gt; | year &lt;chr&gt; | tuition_type &lt;chr&gt; | tuition_cost &lt;dbl&gt; |\n",
       "|---|---|---|---|\n",
       "| All Institutions | 1985-86 | All Constant    | 10893 |\n",
       "| All Institutions | 1985-86 | 4 Year Constant | 12274 |\n",
       "| All Institutions | 1985-86 | 2 Year Constant |  7508 |\n",
       "| All Institutions | 1985-86 | All Current     |  4885 |\n",
       "| All Institutions | 1985-86 | 4 Year Current  |  5504 |\n",
       "| All Institutions | 1985-86 | 2 Year Current  |  3367 |\n",
       "\n"
      ],
      "text/plain": [
       "  type             year    tuition_type    tuition_cost\n",
       "1 All Institutions 1985-86 All Constant    10893       \n",
       "2 All Institutions 1985-86 4 Year Constant 12274       \n",
       "3 All Institutions 1985-86 2 Year Constant  7508       \n",
       "4 All Institutions 1985-86 All Current      4885       \n",
       "5 All Institutions 1985-86 4 Year Current   5504       \n",
       "6 All Institutions 1985-86 2 Year Current   3367       "
      ]
     },
     "metadata": {},
     "output_type": "display_data"
    }
   ],
   "source": [
    "# install.packages('tidyverse')\n",
    "# install.packages('tidymodels')\n",
    "library(tidyverse)\n",
    "library(tidymodels)\n",
    "\n",
    "historical_tuition <- readr::read_csv('https://raw.githubusercontent.com/rfordatascience/tidytuesday/master/data/2020/2020-03-10/historical_tuition.csv', show_col_types = FALSE)\n",
    "head(historical_tuition)"
   ]
  },
  {
   "cell_type": "code",
   "execution_count": 2,
   "metadata": {
    "vscode": {
     "languageId": "r"
    }
   },
   "outputs": [
    {
     "data": {
      "text/html": [
       "<table class=\"dataframe\">\n",
       "<caption>A tibble: 6 × 5</caption>\n",
       "<thead>\n",
       "\t<tr><th scope=col>year</th><th scope=col>tuition_type</th><th scope=col>all_institutions</th><th scope=col>public</th><th scope=col>private</th></tr>\n",
       "\t<tr><th scope=col>&lt;chr&gt;</th><th scope=col>&lt;chr&gt;</th><th scope=col>&lt;dbl&gt;</th><th scope=col>&lt;dbl&gt;</th><th scope=col>&lt;dbl&gt;</th></tr>\n",
       "</thead>\n",
       "<tbody>\n",
       "\t<tr><td>1985-86</td><td>All Constant   </td><td>10893</td><td>7964</td><td>19812</td></tr>\n",
       "\t<tr><td>1985-86</td><td>4 Year Constant</td><td>12274</td><td>8604</td><td>20578</td></tr>\n",
       "\t<tr><td>1985-86</td><td>2 Year Constant</td><td> 7508</td><td>6647</td><td>14521</td></tr>\n",
       "\t<tr><td>1985-86</td><td>All Current    </td><td> 4885</td><td>3571</td><td> 8885</td></tr>\n",
       "\t<tr><td>1985-86</td><td>4 Year Current </td><td> 5504</td><td>3859</td><td> 9228</td></tr>\n",
       "\t<tr><td>1985-86</td><td>2 Year Current </td><td> 3367</td><td>2981</td><td> 6512</td></tr>\n",
       "</tbody>\n",
       "</table>\n"
      ],
      "text/latex": [
       "A tibble: 6 × 5\n",
       "\\begin{tabular}{lllll}\n",
       " year & tuition\\_type & all\\_institutions & public & private\\\\\n",
       " <chr> & <chr> & <dbl> & <dbl> & <dbl>\\\\\n",
       "\\hline\n",
       "\t 1985-86 & All Constant    & 10893 & 7964 & 19812\\\\\n",
       "\t 1985-86 & 4 Year Constant & 12274 & 8604 & 20578\\\\\n",
       "\t 1985-86 & 2 Year Constant &  7508 & 6647 & 14521\\\\\n",
       "\t 1985-86 & All Current     &  4885 & 3571 &  8885\\\\\n",
       "\t 1985-86 & 4 Year Current  &  5504 & 3859 &  9228\\\\\n",
       "\t 1985-86 & 2 Year Current  &  3367 & 2981 &  6512\\\\\n",
       "\\end{tabular}\n"
      ],
      "text/markdown": [
       "\n",
       "A tibble: 6 × 5\n",
       "\n",
       "| year &lt;chr&gt; | tuition_type &lt;chr&gt; | all_institutions &lt;dbl&gt; | public &lt;dbl&gt; | private &lt;dbl&gt; |\n",
       "|---|---|---|---|---|\n",
       "| 1985-86 | All Constant    | 10893 | 7964 | 19812 |\n",
       "| 1985-86 | 4 Year Constant | 12274 | 8604 | 20578 |\n",
       "| 1985-86 | 2 Year Constant |  7508 | 6647 | 14521 |\n",
       "| 1985-86 | All Current     |  4885 | 3571 |  8885 |\n",
       "| 1985-86 | 4 Year Current  |  5504 | 3859 |  9228 |\n",
       "| 1985-86 | 2 Year Current  |  3367 | 2981 |  6512 |\n",
       "\n"
      ],
      "text/plain": [
       "  year    tuition_type    all_institutions public private\n",
       "1 1985-86 All Constant    10893            7964   19812  \n",
       "2 1985-86 4 Year Constant 12274            8604   20578  \n",
       "3 1985-86 2 Year Constant  7508            6647   14521  \n",
       "4 1985-86 All Current      4885            3571    8885  \n",
       "5 1985-86 4 Year Current   5504            3859    9228  \n",
       "6 1985-86 2 Year Current   3367            2981    6512  "
      ]
     },
     "metadata": {},
     "output_type": "display_data"
    }
   ],
   "source": [
    "# install.packages('janitor')\n",
    "\n",
    "# %>% represents a pipe operator. \n",
    "# Since we are interested in the type of institution, we mutate the dataframe and delete the NAs\n",
    "tuition_df <- historical_tuition %>% \n",
    "  pivot_wider(names_from = type,\n",
    "              values_from = tuition_cost\n",
    "              ) %>%\n",
    "  na.omit() %>% \n",
    "  janitor::clean_names()\n",
    "\n",
    "head(tuition_df)"
   ]
  },
  {
   "cell_type": "code",
   "execution_count": null,
   "metadata": {
    "vscode": {
     "languageId": "r"
    }
   },
   "outputs": [],
   "source": []
  },
  {
   "cell_type": "code",
   "execution_count": 3,
   "metadata": {
    "vscode": {
     "languageId": "r"
    }
   },
   "outputs": [
    {
     "data": {
      "image/png": "[encoded data removed]",
      "text/plain": [
       "plot without title"
      ]
     },
     "metadata": {
      "image/png": {
       "height": 420,
       "width": 420
      }
     },
     "output_type": "display_data"
    }
   ],
   "source": [
    "# We visualize the differences between public and private schools\n",
    "tuition_df %>% \n",
    "  ggplot(aes(public, private))+\n",
    "  geom_point()+\n",
    "  scale_y_continuous(labels=scales::dollar_format())+\n",
    "  scale_x_continuous(labels=scales::dollar_format())+\n",
    "  ggtitle(\"Private vs Public School Tuition\")+\n",
    "  xlab(\"Public School Tuition\")+\n",
    "  ylab(\"Private School Tuition\")+\n",
    "  theme_linedraw()+\n",
    "  theme(axis.title = element_text(size=14,face=\"bold\"),\n",
    "        plot.title = element_text(size = 20, face = \"bold\"))"
   ]
  },
  {
   "cell_type": "code",
   "execution_count": 4,
   "metadata": {
    "vscode": {
     "languageId": "r"
    }
   },
   "outputs": [
    {
     "data": {
      "text/html": [
       "<table class=\"dataframe\">\n",
       "<caption>A tibble: 1 × 5</caption>\n",
       "<thead>\n",
       "\t<tr><th scope=col>term</th><th scope=col>estimate</th><th scope=col>std.error</th><th scope=col>statistic</th><th scope=col>p.value</th></tr>\n",
       "\t<tr><th scope=col>&lt;chr&gt;</th><th scope=col>&lt;dbl&gt;</th><th scope=col>&lt;dbl&gt;</th><th scope=col>&lt;dbl&gt;</th><th scope=col>&lt;dbl&gt;</th></tr>\n",
       "</thead>\n",
       "<tbody>\n",
       "\t<tr><td>public</td><td>2.378993</td><td>0.03460388</td><td>68.74933</td><td>1.051151e-66</td></tr>\n",
       "</tbody>\n",
       "</table>\n"
      ],
      "text/latex": [
       "A tibble: 1 × 5\n",
       "\\begin{tabular}{lllll}\n",
       " term & estimate & std.error & statistic & p.value\\\\\n",
       " <chr> & <dbl> & <dbl> & <dbl> & <dbl>\\\\\n",
       "\\hline\n",
       "\t public & 2.378993 & 0.03460388 & 68.74933 & 1.051151e-66\\\\\n",
       "\\end{tabular}\n"
      ],
      "text/markdown": [
       "\n",
       "A tibble: 1 × 5\n",
       "\n",
       "| term &lt;chr&gt; | estimate &lt;dbl&gt; | std.error &lt;dbl&gt; | statistic &lt;dbl&gt; | p.value &lt;dbl&gt; |\n",
       "|---|---|---|---|---|\n",
       "| public | 2.378993 | 0.03460388 | 68.74933 | 1.051151e-66 |\n",
       "\n"
      ],
      "text/plain": [
       "  term   estimate std.error  statistic p.value     \n",
       "1 public 2.378993 0.03460388 68.74933  1.051151e-66"
      ]
     },
     "metadata": {},
     "output_type": "display_data"
    }
   ],
   "source": [
    "# We apply a linear fit to quantify the differences between public and private school tuition\n",
    "tuition_fit <- lm(private ~ 0 + public,\n",
    "               data = tuition_df)\n",
    "               \n",
    "# We tidy the results of the fit\n",
    "tidy(tuition_fit)"
   ]
  },
  {
   "cell_type": "markdown",
   "metadata": {},
   "source": [
    "We can see the slope is estimated to be 2.38. For every dollar in tuition spent at a public school a private school is expected to pay around 2.38 times more.\n",
    "\n",
    "With bootstrapping we will randomly draw with replacement to create new datasets from the original dataset that are the same size as the original. This essentially simulates generating new sets of data from the original set."
   ]
  },
  {
   "cell_type": "code",
   "execution_count": 5,
   "metadata": {
    "vscode": {
     "languageId": "r"
    }
   },
   "outputs": [],
   "source": [
    "set.seed(123)\n",
    "\n",
    "# This generates 1000 datasets wherein the data is sampled from the original dataset\n",
    "tuition_boot <- bootstraps(tuition_df,\n",
    "                          times = 1e3,\n",
    "                          apparent = TRUE)"
   ]
  },
  {
   "cell_type": "markdown",
   "metadata": {},
   "source": [
    "Next we will now fit a linear model to the 1,000 re-samplings. These results will be stored in a new column we call model and the statistics will be stored in a column called conf_inf. We will then unnest the results to extract the estimated statistic (slope of the line), errors, and p values."
   ]
  },
  {
   "cell_type": "code",
   "execution_count": 11,
   "metadata": {
    "vscode": {
     "languageId": "r"
    }
   },
   "outputs": [],
   "source": [
    "tuition_models <- tuition_boot %>% \n",
    "  # Creates a new array of linear model fits using the data in tuition boot\n",
    "  mutate(model = map(splits, ~lm(private ~ 0 + public,\n",
    "               data = .) ),\n",
    "         # Apply tidy function to model \n",
    "         coef_inf = map(model, tidy))\n",
    "\n",
    "tuition_coefs <- tuition_models %>% \n",
    "  unnest(coef_inf)"
   ]
  },
  {
   "cell_type": "markdown",
   "metadata": {},
   "source": [
    "We now have an added column of estimates for the linear model. The question now arises, what is the distribution of the estimated slope between private and public school tuition using the bootstrapped data?"
   ]
  },
  {
   "cell_type": "code",
   "execution_count": 13,
   "metadata": {
    "vscode": {
     "languageId": "r"
    }
   },
   "outputs": [
    {
     "name": "stderr",
     "output_type": "stream",
     "text": [
      "`stat_bin()` using `bins = 30`. Pick better value with `binwidth`.\n",
      "\n"
     ]
    },
    {
     "data": {
      "image/png": "[encoded data removed]",
      "text/plain": [
       "plot without title"
      ]
     },
     "metadata": {
      "image/png": {
       "height": 420,
       "width": 420
      }
     },
     "output_type": "display_data"
    }
   ],
   "source": [
    "tuition_coefs %>% \n",
    "  ggplot(aes(estimate))+\n",
    "  geom_histogram(alpha = .7)+\n",
    "  ggtitle(\"Distribution of Estimated Slope\")+\n",
    "  xlab(\"Estimate\")+\n",
    "  ylab(\"Frequency\")+\n",
    "  theme_linedraw()+\n",
    "  theme(axis.title=element_text(size=14,face=\"bold\"),\n",
    "        plot.title = element_text(size = 20, face = \"bold\"))"
   ]
  },
  {
   "cell_type": "markdown",
   "metadata": {},
   "source": [
    "The data appears normally distributed, we obtain the numerical values below"
   ]
  },
  {
   "cell_type": "code",
   "execution_count": 14,
   "metadata": {
    "vscode": {
     "languageId": "r"
    }
   },
   "outputs": [
    {
     "data": {
      "text/html": [
       "<table class=\"dataframe\">\n",
       "<caption>A tibble: 1 × 6</caption>\n",
       "<thead>\n",
       "\t<tr><th scope=col>term</th><th scope=col>.lower</th><th scope=col>.estimate</th><th scope=col>.upper</th><th scope=col>.alpha</th><th scope=col>.method</th></tr>\n",
       "\t<tr><th scope=col>&lt;chr&gt;</th><th scope=col>&lt;dbl&gt;</th><th scope=col>&lt;dbl&gt;</th><th scope=col>&lt;dbl&gt;</th><th scope=col>&lt;dbl&gt;</th><th scope=col>&lt;chr&gt;</th></tr>\n",
       "</thead>\n",
       "<tbody>\n",
       "\t<tr><td>public</td><td>2.310044</td><td>2.382019</td><td>2.461689</td><td>0.05</td><td>percentile</td></tr>\n",
       "</tbody>\n",
       "</table>\n"
      ],
      "text/latex": [
       "A tibble: 1 × 6\n",
       "\\begin{tabular}{llllll}\n",
       " term & .lower & .estimate & .upper & .alpha & .method\\\\\n",
       " <chr> & <dbl> & <dbl> & <dbl> & <dbl> & <chr>\\\\\n",
       "\\hline\n",
       "\t public & 2.310044 & 2.382019 & 2.461689 & 0.05 & percentile\\\\\n",
       "\\end{tabular}\n"
      ],
      "text/markdown": [
       "\n",
       "A tibble: 1 × 6\n",
       "\n",
       "| term &lt;chr&gt; | .lower &lt;dbl&gt; | .estimate &lt;dbl&gt; | .upper &lt;dbl&gt; | .alpha &lt;dbl&gt; | .method &lt;chr&gt; |\n",
       "|---|---|---|---|---|---|\n",
       "| public | 2.310044 | 2.382019 | 2.461689 | 0.05 | percentile |\n",
       "\n"
      ],
      "text/plain": [
       "  term   .lower   .estimate .upper   .alpha .method   \n",
       "1 public 2.310044 2.382019  2.461689 0.05   percentile"
      ]
     },
     "metadata": {},
     "output_type": "display_data"
    }
   ],
   "source": [
    "int_pctl(tuition_models,\n",
    "         coef_inf)"
   ]
  },
  {
   "cell_type": "markdown",
   "metadata": {},
   "source": [
    "We can see with bootstrapping the estimated slope that described the relation between private and public school tuition costs is around 2.38–similar to what we obtained without bootstrapping. This could be because the underlying relation between public and private schools is linear and the underlying assumptions of linear models apply to this dataset.\n",
    "\n",
    "Furthermore, with bootstrapping we have lower and upper bounds for the relation as well which we did not have with just using a linear model on the un-sampled data.\n",
    "\n",
    "Lastly, we can visualize the various estimates we calculated from the bootstrapped samples."
   ]
  },
  {
   "cell_type": "code",
   "execution_count": 16,
   "metadata": {
    "vscode": {
     "languageId": "r"
    }
   },
   "outputs": [
    {
     "data": {
      "image/png": "[encoded data removed]",
      "text/plain": [
       "plot without title"
      ]
     },
     "metadata": {
      "image/png": {
       "height": 420,
       "width": 420
      }
     },
     "output_type": "display_data"
    }
   ],
   "source": [
    "tuition_aug <- tuition_models %>% \n",
    "  # Sample only 200 bootstraps for visualization\n",
    "  sample_n(200) %>% \n",
    "  mutate(augmented = map(model, augment)) %>% \n",
    "  unnest(augmented)\n",
    "  \n",
    "tuition_aug %>% \n",
    "  ggplot(aes(public, private))+\n",
    "  geom_line(aes(y = .fitted, group = id), alpha = .1, color = 'grey')+\n",
    "  geom_point()+\n",
    "  scale_y_continuous(labels=scales::dollar_format())+\n",
    "  scale_x_continuous(labels=scales::dollar_format())+\n",
    "  ggtitle(\"200 of 1000 Slope Estimations from Bootstrap Resampling\")+\n",
    "  xlab(\"Public School Tuition\")+\n",
    "  ylab(\"Private School Tuition\")+\n",
    "  theme_linedraw()+\n",
    "  theme(axis.title=element_text(size=14,face=\"bold\"),\n",
    "        plot.title = element_text(size = 20, face = \"bold\"))"
   ]
  }
 ],
 "metadata": {
  "kernelspec": {
   "display_name": "R",
   "language": "R",
   "name": "ir"
  },
  "language_info": {
   "codemirror_mode": "r",
   "file_extension": ".r",
   "mimetype": "text/x-r-source",
   "name": "R",
   "pygments_lexer": "r",
   "version": "4.2.1"
  },
  "orig_nbformat": 4
 },
 "nbformat": 4,
 "nbformat_minor": 2
}
